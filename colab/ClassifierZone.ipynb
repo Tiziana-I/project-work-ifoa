{
  "nbformat": 4,
  "nbformat_minor": 0,
  "metadata": {
    "colab": {
      "name": "ClassifierZone.ipynb",
      "provenance": [],
      "collapsed_sections": [
        "vJHL4U-cYFcF",
        "R8vX_a03Y1Ol",
        "n5VXPrdZsA6O",
        "ycG-RYnFq88b"
      ],
      "toc_visible": true,
      "authorship_tag": "ABX9TyMK7gLYoRxjK/6quGRXDALS",
      "include_colab_link": true
    },
    "kernelspec": {
      "name": "python3",
      "display_name": "Python 3"
    }
  },
  "cells": [
    {
      "cell_type": "markdown",
      "metadata": {
        "id": "view-in-github",
        "colab_type": "text"
      },
      "source": [
        "<a href=\"https://colab.research.google.com/github/visiont3lab/project-work-ifoa/blob/main/colab/ClassifierZone.ipynb\" target=\"_parent\"><img src=\"https://colab.research.google.com/assets/colab-badge.svg\" alt=\"Open In Colab\"/></a>"
      ]
    },
    {
      "cell_type": "markdown",
      "metadata": {
        "id": "Ws6nUWGiXxsP"
      },
      "source": [
        "# Classificazore colore zone (regioni) durante il periodo covid-19 in italia"
      ]
    },
    {
      "cell_type": "markdown",
      "metadata": {
        "id": "yWRqIILIX8Kd"
      },
      "source": [
        "> Obbiettivo: Creare un classificatore capace di prevedere il colore della zona di una regione."
      ]
    },
    {
      "cell_type": "markdown",
      "metadata": {
        "id": "vJHL4U-cYFcF"
      },
      "source": [
        "## Creazione dataset"
      ]
    },
    {
      "cell_type": "code",
      "metadata": {
        "colab": {
          "base_uri": "https://localhost:8080/",
          "height": 360
        },
        "id": "IORbuHFjcIFn",
        "outputId": "c6964db7-e236-408c-84a8-9e15579e33bf"
      },
      "source": [
        "# Importare il dataset\r\n",
        "import pandas as pd\r\n",
        "from datetime import datetime\r\n",
        "import numpy as np\r\n",
        "\r\n",
        "df = pd.read_csv(\"https://raw.githubusercontent.com/visiont3lab/project-work-ifoa/main/data/dpc-covid19-ita-regioni-zone.csv\")\r\n",
        "df[\"data\"] = [ datetime.strptime(d, \"%Y-%m-%d %H:%M:%S\").date() for d in  df[\"data\"]]\r\n",
        "df = df[df[\"zona\"]!=\"unknown\"].copy()\r\n",
        "# Semplicazione e scelta degli input\r\n",
        "inputs = [\"ricoverati_con_sintomi\",\"terapia_intensiva\",\r\n",
        "        \"totale_ospedalizzati\",\"totale_positivi\",\"isolamento_domiciliare\",\r\n",
        "        \"deceduti\",\"dimessi_guariti\",\"nuovi_positivi\",\"totale_casi\",\"tamponi\"]\r\n",
        "\r\n",
        "df_X = df[inputs].copy()\r\n",
        "\r\n",
        "oneHot = pd.get_dummies(df[\"denominazione_regione\"], prefix='R')\r\n",
        "for k in oneHot.keys():\r\n",
        "    df_X[k] = oneHot[k]\r\n",
        "\r\n",
        "display(df_X.head())\r\n",
        "\r\n",
        "df_Y = df[\"zona\"]\r\n",
        "display(df_Y.head())"
      ],
      "execution_count": 174,
      "outputs": [
        {
          "output_type": "display_data",
          "data": {
            "text/html": [
              "<div>\n",
              "<style scoped>\n",
              "    .dataframe tbody tr th:only-of-type {\n",
              "        vertical-align: middle;\n",
              "    }\n",
              "\n",
              "    .dataframe tbody tr th {\n",
              "        vertical-align: top;\n",
              "    }\n",
              "\n",
              "    .dataframe thead th {\n",
              "        text-align: right;\n",
              "    }\n",
              "</style>\n",
              "<table border=\"1\" class=\"dataframe\">\n",
              "  <thead>\n",
              "    <tr style=\"text-align: right;\">\n",
              "      <th></th>\n",
              "      <th>ricoverati_con_sintomi</th>\n",
              "      <th>terapia_intensiva</th>\n",
              "      <th>totale_ospedalizzati</th>\n",
              "      <th>totale_positivi</th>\n",
              "      <th>isolamento_domiciliare</th>\n",
              "      <th>deceduti</th>\n",
              "      <th>dimessi_guariti</th>\n",
              "      <th>nuovi_positivi</th>\n",
              "      <th>totale_casi</th>\n",
              "      <th>tamponi</th>\n",
              "      <th>R_Abruzzo</th>\n",
              "      <th>R_Basilicata</th>\n",
              "      <th>R_Calabria</th>\n",
              "      <th>R_Campania</th>\n",
              "      <th>R_Emilia-Romagna</th>\n",
              "      <th>R_Friuli Venezia Giulia</th>\n",
              "      <th>R_Lazio</th>\n",
              "      <th>R_Liguria</th>\n",
              "      <th>R_Lombardia</th>\n",
              "      <th>R_Marche</th>\n",
              "      <th>R_Molise</th>\n",
              "      <th>R_P.A. Bolzano</th>\n",
              "      <th>R_P.A. Trento</th>\n",
              "      <th>R_Piemonte</th>\n",
              "      <th>R_Puglia</th>\n",
              "      <th>R_Sardegna</th>\n",
              "      <th>R_Sicilia</th>\n",
              "      <th>R_Toscana</th>\n",
              "      <th>R_Umbria</th>\n",
              "      <th>R_Valle d'Aosta</th>\n",
              "      <th>R_Veneto</th>\n",
              "    </tr>\n",
              "  </thead>\n",
              "  <tbody>\n",
              "    <tr>\n",
              "      <th>5376</th>\n",
              "      <td>468</td>\n",
              "      <td>42</td>\n",
              "      <td>510</td>\n",
              "      <td>8581</td>\n",
              "      <td>8071</td>\n",
              "      <td>584</td>\n",
              "      <td>4340</td>\n",
              "      <td>395</td>\n",
              "      <td>13505</td>\n",
              "      <td>308505</td>\n",
              "      <td>1</td>\n",
              "      <td>0</td>\n",
              "      <td>0</td>\n",
              "      <td>0</td>\n",
              "      <td>0</td>\n",
              "      <td>0</td>\n",
              "      <td>0</td>\n",
              "      <td>0</td>\n",
              "      <td>0</td>\n",
              "      <td>0</td>\n",
              "      <td>0</td>\n",
              "      <td>0</td>\n",
              "      <td>0</td>\n",
              "      <td>0</td>\n",
              "      <td>0</td>\n",
              "      <td>0</td>\n",
              "      <td>0</td>\n",
              "      <td>0</td>\n",
              "      <td>0</td>\n",
              "      <td>0</td>\n",
              "      <td>0</td>\n",
              "    </tr>\n",
              "    <tr>\n",
              "      <th>5377</th>\n",
              "      <td>100</td>\n",
              "      <td>16</td>\n",
              "      <td>116</td>\n",
              "      <td>2335</td>\n",
              "      <td>2219</td>\n",
              "      <td>59</td>\n",
              "      <td>778</td>\n",
              "      <td>249</td>\n",
              "      <td>3172</td>\n",
              "      <td>112980</td>\n",
              "      <td>0</td>\n",
              "      <td>1</td>\n",
              "      <td>0</td>\n",
              "      <td>0</td>\n",
              "      <td>0</td>\n",
              "      <td>0</td>\n",
              "      <td>0</td>\n",
              "      <td>0</td>\n",
              "      <td>0</td>\n",
              "      <td>0</td>\n",
              "      <td>0</td>\n",
              "      <td>0</td>\n",
              "      <td>0</td>\n",
              "      <td>0</td>\n",
              "      <td>0</td>\n",
              "      <td>0</td>\n",
              "      <td>0</td>\n",
              "      <td>0</td>\n",
              "      <td>0</td>\n",
              "      <td>0</td>\n",
              "      <td>0</td>\n",
              "    </tr>\n",
              "    <tr>\n",
              "      <th>5378</th>\n",
              "      <td>212</td>\n",
              "      <td>15</td>\n",
              "      <td>227</td>\n",
              "      <td>4481</td>\n",
              "      <td>4254</td>\n",
              "      <td>132</td>\n",
              "      <td>2101</td>\n",
              "      <td>264</td>\n",
              "      <td>6714</td>\n",
              "      <td>292222</td>\n",
              "      <td>0</td>\n",
              "      <td>0</td>\n",
              "      <td>1</td>\n",
              "      <td>0</td>\n",
              "      <td>0</td>\n",
              "      <td>0</td>\n",
              "      <td>0</td>\n",
              "      <td>0</td>\n",
              "      <td>0</td>\n",
              "      <td>0</td>\n",
              "      <td>0</td>\n",
              "      <td>0</td>\n",
              "      <td>0</td>\n",
              "      <td>0</td>\n",
              "      <td>0</td>\n",
              "      <td>0</td>\n",
              "      <td>0</td>\n",
              "      <td>0</td>\n",
              "      <td>0</td>\n",
              "      <td>0</td>\n",
              "      <td>0</td>\n",
              "    </tr>\n",
              "    <tr>\n",
              "      <th>5379</th>\n",
              "      <td>1677</td>\n",
              "      <td>180</td>\n",
              "      <td>1857</td>\n",
              "      <td>62196</td>\n",
              "      <td>60339</td>\n",
              "      <td>796</td>\n",
              "      <td>15017</td>\n",
              "      <td>4508</td>\n",
              "      <td>78009</td>\n",
              "      <td>1075201</td>\n",
              "      <td>0</td>\n",
              "      <td>0</td>\n",
              "      <td>0</td>\n",
              "      <td>1</td>\n",
              "      <td>0</td>\n",
              "      <td>0</td>\n",
              "      <td>0</td>\n",
              "      <td>0</td>\n",
              "      <td>0</td>\n",
              "      <td>0</td>\n",
              "      <td>0</td>\n",
              "      <td>0</td>\n",
              "      <td>0</td>\n",
              "      <td>0</td>\n",
              "      <td>0</td>\n",
              "      <td>0</td>\n",
              "      <td>0</td>\n",
              "      <td>0</td>\n",
              "      <td>0</td>\n",
              "      <td>0</td>\n",
              "      <td>0</td>\n",
              "    </tr>\n",
              "    <tr>\n",
              "      <th>5380</th>\n",
              "      <td>1673</td>\n",
              "      <td>177</td>\n",
              "      <td>1850</td>\n",
              "      <td>33730</td>\n",
              "      <td>31880</td>\n",
              "      <td>4752</td>\n",
              "      <td>28559</td>\n",
              "      <td>1953</td>\n",
              "      <td>67041</td>\n",
              "      <td>1695309</td>\n",
              "      <td>0</td>\n",
              "      <td>0</td>\n",
              "      <td>0</td>\n",
              "      <td>0</td>\n",
              "      <td>1</td>\n",
              "      <td>0</td>\n",
              "      <td>0</td>\n",
              "      <td>0</td>\n",
              "      <td>0</td>\n",
              "      <td>0</td>\n",
              "      <td>0</td>\n",
              "      <td>0</td>\n",
              "      <td>0</td>\n",
              "      <td>0</td>\n",
              "      <td>0</td>\n",
              "      <td>0</td>\n",
              "      <td>0</td>\n",
              "      <td>0</td>\n",
              "      <td>0</td>\n",
              "      <td>0</td>\n",
              "      <td>0</td>\n",
              "    </tr>\n",
              "  </tbody>\n",
              "</table>\n",
              "</div>"
            ],
            "text/plain": [
              "      ricoverati_con_sintomi  terapia_intensiva  ...  R_Valle d'Aosta  R_Veneto\n",
              "5376                     468                 42  ...                0         0\n",
              "5377                     100                 16  ...                0         0\n",
              "5378                     212                 15  ...                0         0\n",
              "5379                    1677                180  ...                0         0\n",
              "5380                    1673                177  ...                0         0\n",
              "\n",
              "[5 rows x 31 columns]"
            ]
          },
          "metadata": {
            "tags": []
          }
        },
        {
          "output_type": "display_data",
          "data": {
            "text/plain": [
              "5376    bianca\n",
              "5377    bianca\n",
              "5378     rossa\n",
              "5379    gialla\n",
              "5380    bianca\n",
              "Name: zona, dtype: object"
            ]
          },
          "metadata": {
            "tags": []
          }
        }
      ]
    },
    {
      "cell_type": "code",
      "metadata": {
        "colab": {
          "base_uri": "https://localhost:8080/"
        },
        "id": "rLqlov01dHih",
        "outputId": "fb3bf789-ea23-438e-db29-244f075219c0"
      },
      "source": [
        "# Classi\r\n",
        "dict_names = {\"bianca\":0,\"gialla\": 1, \"arancione\": 2, \"rossa\": 3}\r\n",
        "names = list(dict_names)\r\n",
        "\r\n",
        "X = df_X.values\r\n",
        "Y = np.array([dict_names[d] for d in df_Y],dtype=np.float)\r\n",
        "\r\n",
        "print(\"X shape: \", X.shape)\r\n",
        "print(\"Y shape: \", Y.shape)\r\n"
      ],
      "execution_count": 175,
      "outputs": [
        {
          "output_type": "stream",
          "text": [
            "X shape:  (2667, 31)\n",
            "Y shape:  (2667,)\n"
          ],
          "name": "stdout"
        }
      ]
    },
    {
      "cell_type": "markdown",
      "metadata": {
        "id": "R8vX_a03Y1Ol"
      },
      "source": [
        "## Training"
      ]
    },
    {
      "cell_type": "code",
      "metadata": {
        "colab": {
          "base_uri": "https://localhost:8080/"
        },
        "id": "iZr1eQHoXtkE",
        "outputId": "3bf32251-d319-458a-9447-aec00e74179f"
      },
      "source": [
        "from sklearn import datasets\r\n",
        "import numpy as np\r\n",
        "from sklearn.pipeline import Pipeline\r\n",
        "from sklearn.preprocessing import PolynomialFeatures\r\n",
        "from sklearn.preprocessing import StandardScaler\r\n",
        "from sklearn.svm import LinearSVC,SVC\r\n",
        "import plotly.graph_objects as go\r\n",
        "from sklearn.metrics import confusion_matrix,classification_report\r\n",
        "from sklearn.model_selection import train_test_split, GridSearchCV,RandomizedSearchCV\r\n",
        "from sklearn.decomposition import PCA\r\n",
        "import joblib\r\n",
        "from sklearn.ensemble import ExtraTreesClassifier, RandomForestClassifier, GradientBoostingClassifier\r\n",
        "\r\n",
        "X_train, X_test, Y_train, Y_test  = train_test_split(X, Y, test_size=0.2, random_state=42)\r\n",
        "\r\n",
        "pipeline = Pipeline([\r\n",
        "    (\"sc\", StandardScaler()), # 0-1 features\r\n",
        "    #('polinomial', PolynomialFeatures(degree=3)),\r\n",
        "    #(\"pca\", PCA(n_components=0.99)),\r\n",
        "    #(\"model\", SVC(kernel=\"rbf\",C=10,gamma=1,probability=True) ) # Probability true slow down dataset\r\n",
        "    #(\"model\", SVC(kernel=\"linear\",C=1000,gamma=100,probability=True) ) # Probability true slow down dataset\r\n",
        "    #('model', GradientBoostingClassifier(learning_rate=0.05,n_estimators=150))\r\n",
        "    ('model',RandomForestClassifier(n_estimators=150))\r\n",
        "])\r\n",
        "\r\n",
        "# Fit\r\n",
        "pipeline.fit(X_train,Y_train)\r\n",
        "\r\n",
        "# Score\r\n",
        "score = pipeline.score(X_test,Y_test)\r\n",
        "print(\"Test: f1_weighted score : \", score)\r\n",
        "\r\n",
        "# Save trained model\r\n",
        "joblib.dump(pipeline, \"model.pkl\") \r\n",
        "\r\n",
        "'''\r\n",
        "tuned_parameters = [\r\n",
        "            {'pca__n_components': [0.97,0.98,0.99]},\r\n",
        "            {'model__kernel': ['rbf'],  'model__C': [1000,1500,2000] , 'model__gamma' : [100,200,300]},\r\n",
        "        ]\r\n",
        "\r\n",
        "# Grid search\r\n",
        "grid_search = RandomizedSearchCV(\r\n",
        "    pipeline, tuned_parameters, scoring='f1_macro'\r\n",
        ")\r\n",
        "\r\n",
        "# Train\r\n",
        "grid_search.fit(X_train,Y_train)\r\n",
        "\r\n",
        "# Score\r\n",
        "score = grid_search.best_estimator_.score(X,Y)\r\n",
        "print(\"f1_weighted score : \", score)\r\n",
        "\r\n",
        "# Save trained model\r\n",
        "joblib.dump(grid_search.best_estimator_, \"model.pkl\") \r\n",
        "\r\n",
        "print(grid_search.best_estimator_.named_steps[\"model\"])\r\n",
        "'''\r\n",
        "\r\n",
        "print(pipeline)\r\n"
      ],
      "execution_count": 192,
      "outputs": [
        {
          "output_type": "stream",
          "text": [
            "Test: f1_weighted score :  0.9176029962546817\n",
            "Pipeline(memory=None,\n",
            "         steps=[('sc',\n",
            "                 StandardScaler(copy=True, with_mean=True, with_std=True)),\n",
            "                ('model',\n",
            "                 RandomForestClassifier(bootstrap=True, ccp_alpha=0.0,\n",
            "                                        class_weight=None, criterion='gini',\n",
            "                                        max_depth=None, max_features='auto',\n",
            "                                        max_leaf_nodes=None, max_samples=None,\n",
            "                                        min_impurity_decrease=0.0,\n",
            "                                        min_impurity_split=None,\n",
            "                                        min_samples_leaf=1, min_samples_split=2,\n",
            "                                        min_weight_fraction_leaf=0.0,\n",
            "                                        n_estimators=150, n_jobs=None,\n",
            "                                        oob_score=False, random_state=None,\n",
            "                                        verbose=0, warm_start=False))],\n",
            "         verbose=False)\n"
          ],
          "name": "stdout"
        }
      ]
    },
    {
      "cell_type": "markdown",
      "metadata": {
        "id": "n5VXPrdZsA6O"
      },
      "source": [
        "## Testing\r\n"
      ]
    },
    {
      "cell_type": "code",
      "metadata": {
        "colab": {
          "base_uri": "https://localhost:8080/"
        },
        "id": "no_Ql7Q7sC4x",
        "outputId": "7ca907e4-4ecf-46a7-af30-c9ba33718e16"
      },
      "source": [
        "import joblib\r\n",
        "import pandas as pd\r\n",
        "import numpy as np\r\n",
        "from sklearn.metrics import confusion_matrix,classification_report\r\n",
        "\r\n",
        "class Inference:\r\n",
        "    def __init__(self,model_path=\"model.pkl\"):\r\n",
        "        dict_names = {\"bianca\":0,\"gialla\": 1, \"arancione\": 2, \"rossa\": 3}\r\n",
        "        self.names = list(dict_names)\r\n",
        "        self.model = joblib.load(model_path)\r\n",
        "    def predict(self,X):\r\n",
        "        Y_hat = self.model.predict(X)\r\n",
        "        return Y_hat\r\n",
        "    def report(self,X,Y):\r\n",
        "        Y_hat = self.predict(X)\r\n",
        "        names_pred = [ \"Pred: \" + n for n in self.names]\r\n",
        "        #print(\"Confusion Matrix\")\r\n",
        "        cm = confusion_matrix(Y,Y_hat)\r\n",
        "        df = pd.DataFrame(cm, columns=names_pred, index=names)\r\n",
        "        print(df)\r\n",
        "        #print(\"Report\")\r\n",
        "        #print(classification_report(Y, Y_hat))\r\n",
        "\r\n",
        "inf = Inference()\r\n",
        "print(\"\\n ------- Training Results\\n\")\r\n",
        "inf.report(X_train,Y_train)\r\n",
        "print(\"\\n ------- Test Results\\n\")\r\n",
        "inf.report(X_test,Y_test)\r\n"
      ],
      "execution_count": 181,
      "outputs": [
        {
          "output_type": "stream",
          "text": [
            "\n",
            " ------- Training Results\n",
            "\n",
            "           Pred: bianca  Pred: gialla  Pred: arancione  Pred: rossa\n",
            "bianca              760             0                0            0\n",
            "gialla                0           683                0            0\n",
            "arancione             0             0              549            0\n",
            "rossa                 0             0                0          141\n",
            "\n",
            " ------- Test Results\n",
            "\n",
            "           Pred: bianca  Pred: gialla  Pred: arancione  Pred: rossa\n",
            "bianca              156             3               12            3\n",
            "gialla               11           178                1            0\n",
            "arancione             8             1              115            0\n",
            "rossa                 0             0                2           44\n"
          ],
          "name": "stdout"
        }
      ]
    },
    {
      "cell_type": "markdown",
      "metadata": {
        "id": "ycG-RYnFq88b"
      },
      "source": [
        "## Feature Importance"
      ]
    },
    {
      "cell_type": "code",
      "metadata": {
        "colab": {
          "base_uri": "https://localhost:8080/",
          "height": 542
        },
        "id": "Ev0xc_0dq3LS",
        "outputId": "66fdbdce-6bc8-4d11-815e-c386c6f4ac45"
      },
      "source": [
        "import joblib\r\n",
        "import numpy as np\r\n",
        "import plotly.graph_objects as go\r\n",
        "\r\n",
        "inputs = df_X.keys()\r\n",
        "\r\n",
        "model = joblib.load(\"model.pkl\")\r\n",
        "model = pipeline.named_steps[\"model\"]\r\n",
        "importances = model.feature_importances_\r\n",
        "std = np.std([tree.feature_importances_ for tree in model.estimators_],axis=0)\r\n",
        "indices = np.argsort(importances)[::-1]\r\n",
        "\r\n",
        "# Print the feature ranking\r\n",
        "#print(\"Feature ranking:\")\r\n",
        "xplot = []\r\n",
        "yplot = []\r\n",
        "for f in range(X.shape[1]):\r\n",
        "    xplot.append(inputs[indices[f]])\r\n",
        "    yplot.append(np.round(importances[indices[f]],3))\r\n",
        "    #print(\"%s %s (%s)\" % (f + 1,inputs[indices[f]] , np.round(importances[indices[f]],3)))\r\n",
        "\r\n",
        "# Plot the impurity-based feature importances of the forest\r\n",
        "fig = go.Figure()\r\n",
        "fig.add_traces(go.Bar(x=xplot, y=yplot))\r\n",
        "fig.update_layout(title=\"Input features Importance\")\r\n",
        "fig.show()"
      ],
      "execution_count": 193,
      "outputs": [
        {
          "output_type": "display_data",
          "data": {
            "text/html": [
              "<html>\n",
              "<head><meta charset=\"utf-8\" /></head>\n",
              "<body>\n",
              "    <div>\n",
              "            <script src=\"https://cdnjs.cloudflare.com/ajax/libs/mathjax/2.7.5/MathJax.js?config=TeX-AMS-MML_SVG\"></script><script type=\"text/javascript\">if (window.MathJax) {MathJax.Hub.Config({SVG: {font: \"STIX-Web\"}});}</script>\n",
              "                <script type=\"text/javascript\">window.PlotlyConfig = {MathJaxConfig: 'local'};</script>\n",
              "        <script src=\"https://cdn.plot.ly/plotly-latest.min.js\"></script>    \n",
              "            <div id=\"bc73c5df-d68e-47e8-9e2a-c45a857cc38f\" class=\"plotly-graph-div\" style=\"height:525px; width:100%;\"></div>\n",
              "            <script type=\"text/javascript\">\n",
              "                \n",
              "                    window.PLOTLYENV=window.PLOTLYENV || {};\n",
              "                    \n",
              "                if (document.getElementById(\"bc73c5df-d68e-47e8-9e2a-c45a857cc38f\")) {\n",
              "                    Plotly.newPlot(\n",
              "                        'bc73c5df-d68e-47e8-9e2a-c45a857cc38f',\n",
              "                        [{\"type\": \"bar\", \"x\": [\"tamponi\", \"deceduti\", \"totale_casi\", \"dimessi_guariti\", \"totale_ospedalizzati\", \"ricoverati_con_sintomi\", \"totale_positivi\", \"isolamento_domiciliare\", \"terapia_intensiva\", \"nuovi_positivi\", \"R_P.A. Bolzano\", \"R_P.A. Trento\", \"R_Umbria\", \"R_Sicilia\", \"R_Sardegna\", \"R_Calabria\", \"R_Lazio\", \"R_Toscana\", \"R_Marche\", \"R_Emilia-Romagna\", \"R_Abruzzo\", \"R_Basilicata\", \"R_Liguria\", \"R_Campania\", \"R_Puglia\", \"R_Veneto\", \"R_Piemonte\", \"R_Molise\", \"R_Friuli Venezia Giulia\", \"R_Valle d'Aosta\", \"R_Lombardia\"], \"y\": [0.117, 0.109, 0.101, 0.094, 0.084, 0.081, 0.079, 0.076, 0.075, 0.042, 0.028, 0.023, 0.012, 0.011, 0.01, 0.005, 0.005, 0.005, 0.004, 0.004, 0.004, 0.004, 0.004, 0.004, 0.003, 0.003, 0.003, 0.003, 0.003, 0.002, 0.001]}],\n",
              "                        {\"template\": {\"data\": {\"bar\": [{\"error_x\": {\"color\": \"#2a3f5f\"}, \"error_y\": {\"color\": \"#2a3f5f\"}, \"marker\": {\"line\": {\"color\": \"#E5ECF6\", \"width\": 0.5}}, \"type\": \"bar\"}], \"barpolar\": [{\"marker\": {\"line\": {\"color\": \"#E5ECF6\", \"width\": 0.5}}, \"type\": \"barpolar\"}], \"carpet\": [{\"aaxis\": {\"endlinecolor\": \"#2a3f5f\", \"gridcolor\": \"white\", \"linecolor\": \"white\", \"minorgridcolor\": \"white\", \"startlinecolor\": \"#2a3f5f\"}, \"baxis\": {\"endlinecolor\": \"#2a3f5f\", \"gridcolor\": \"white\", \"linecolor\": \"white\", \"minorgridcolor\": \"white\", \"startlinecolor\": \"#2a3f5f\"}, \"type\": \"carpet\"}], \"choropleth\": [{\"colorbar\": {\"outlinewidth\": 0, \"ticks\": \"\"}, \"type\": \"choropleth\"}], \"contour\": [{\"colorbar\": {\"outlinewidth\": 0, \"ticks\": \"\"}, \"colorscale\": [[0.0, \"#0d0887\"], [0.1111111111111111, \"#46039f\"], [0.2222222222222222, \"#7201a8\"], [0.3333333333333333, \"#9c179e\"], [0.4444444444444444, \"#bd3786\"], [0.5555555555555556, \"#d8576b\"], [0.6666666666666666, \"#ed7953\"], [0.7777777777777778, \"#fb9f3a\"], [0.8888888888888888, \"#fdca26\"], [1.0, \"#f0f921\"]], \"type\": \"contour\"}], \"contourcarpet\": [{\"colorbar\": {\"outlinewidth\": 0, \"ticks\": \"\"}, \"type\": \"contourcarpet\"}], \"heatmap\": [{\"colorbar\": {\"outlinewidth\": 0, \"ticks\": \"\"}, \"colorscale\": [[0.0, \"#0d0887\"], [0.1111111111111111, \"#46039f\"], [0.2222222222222222, \"#7201a8\"], [0.3333333333333333, \"#9c179e\"], [0.4444444444444444, \"#bd3786\"], [0.5555555555555556, \"#d8576b\"], [0.6666666666666666, \"#ed7953\"], [0.7777777777777778, \"#fb9f3a\"], [0.8888888888888888, \"#fdca26\"], [1.0, \"#f0f921\"]], \"type\": \"heatmap\"}], \"heatmapgl\": [{\"colorbar\": {\"outlinewidth\": 0, \"ticks\": \"\"}, \"colorscale\": [[0.0, \"#0d0887\"], [0.1111111111111111, \"#46039f\"], [0.2222222222222222, \"#7201a8\"], [0.3333333333333333, \"#9c179e\"], [0.4444444444444444, \"#bd3786\"], [0.5555555555555556, \"#d8576b\"], [0.6666666666666666, \"#ed7953\"], [0.7777777777777778, \"#fb9f3a\"], [0.8888888888888888, \"#fdca26\"], [1.0, \"#f0f921\"]], \"type\": \"heatmapgl\"}], \"histogram\": [{\"marker\": {\"colorbar\": {\"outlinewidth\": 0, \"ticks\": \"\"}}, \"type\": \"histogram\"}], \"histogram2d\": [{\"colorbar\": {\"outlinewidth\": 0, \"ticks\": \"\"}, \"colorscale\": [[0.0, \"#0d0887\"], [0.1111111111111111, \"#46039f\"], [0.2222222222222222, \"#7201a8\"], [0.3333333333333333, \"#9c179e\"], [0.4444444444444444, \"#bd3786\"], [0.5555555555555556, \"#d8576b\"], [0.6666666666666666, \"#ed7953\"], [0.7777777777777778, \"#fb9f3a\"], [0.8888888888888888, \"#fdca26\"], [1.0, \"#f0f921\"]], \"type\": \"histogram2d\"}], \"histogram2dcontour\": [{\"colorbar\": {\"outlinewidth\": 0, \"ticks\": \"\"}, \"colorscale\": [[0.0, \"#0d0887\"], [0.1111111111111111, \"#46039f\"], [0.2222222222222222, \"#7201a8\"], [0.3333333333333333, \"#9c179e\"], [0.4444444444444444, \"#bd3786\"], [0.5555555555555556, \"#d8576b\"], [0.6666666666666666, \"#ed7953\"], [0.7777777777777778, \"#fb9f3a\"], [0.8888888888888888, \"#fdca26\"], [1.0, \"#f0f921\"]], \"type\": \"histogram2dcontour\"}], \"mesh3d\": [{\"colorbar\": {\"outlinewidth\": 0, \"ticks\": \"\"}, \"type\": \"mesh3d\"}], \"parcoords\": [{\"line\": {\"colorbar\": {\"outlinewidth\": 0, \"ticks\": \"\"}}, \"type\": \"parcoords\"}], \"pie\": [{\"automargin\": true, \"type\": \"pie\"}], \"scatter\": [{\"marker\": {\"colorbar\": {\"outlinewidth\": 0, \"ticks\": \"\"}}, \"type\": \"scatter\"}], \"scatter3d\": [{\"line\": {\"colorbar\": {\"outlinewidth\": 0, \"ticks\": \"\"}}, \"marker\": {\"colorbar\": {\"outlinewidth\": 0, \"ticks\": \"\"}}, \"type\": \"scatter3d\"}], \"scattercarpet\": [{\"marker\": {\"colorbar\": {\"outlinewidth\": 0, \"ticks\": \"\"}}, \"type\": \"scattercarpet\"}], \"scattergeo\": [{\"marker\": {\"colorbar\": {\"outlinewidth\": 0, \"ticks\": \"\"}}, \"type\": \"scattergeo\"}], \"scattergl\": [{\"marker\": {\"colorbar\": {\"outlinewidth\": 0, \"ticks\": \"\"}}, \"type\": \"scattergl\"}], \"scattermapbox\": [{\"marker\": {\"colorbar\": {\"outlinewidth\": 0, \"ticks\": \"\"}}, \"type\": \"scattermapbox\"}], \"scatterpolar\": [{\"marker\": {\"colorbar\": {\"outlinewidth\": 0, \"ticks\": \"\"}}, \"type\": \"scatterpolar\"}], \"scatterpolargl\": [{\"marker\": {\"colorbar\": {\"outlinewidth\": 0, \"ticks\": \"\"}}, \"type\": \"scatterpolargl\"}], \"scatterternary\": [{\"marker\": {\"colorbar\": {\"outlinewidth\": 0, \"ticks\": \"\"}}, \"type\": \"scatterternary\"}], \"surface\": [{\"colorbar\": {\"outlinewidth\": 0, \"ticks\": \"\"}, \"colorscale\": [[0.0, \"#0d0887\"], [0.1111111111111111, \"#46039f\"], [0.2222222222222222, \"#7201a8\"], [0.3333333333333333, \"#9c179e\"], [0.4444444444444444, \"#bd3786\"], [0.5555555555555556, \"#d8576b\"], [0.6666666666666666, \"#ed7953\"], [0.7777777777777778, \"#fb9f3a\"], [0.8888888888888888, \"#fdca26\"], [1.0, \"#f0f921\"]], \"type\": \"surface\"}], \"table\": [{\"cells\": {\"fill\": {\"color\": \"#EBF0F8\"}, \"line\": {\"color\": \"white\"}}, \"header\": {\"fill\": {\"color\": \"#C8D4E3\"}, \"line\": {\"color\": \"white\"}}, \"type\": \"table\"}]}, \"layout\": {\"annotationdefaults\": {\"arrowcolor\": \"#2a3f5f\", \"arrowhead\": 0, \"arrowwidth\": 1}, \"coloraxis\": {\"colorbar\": {\"outlinewidth\": 0, \"ticks\": \"\"}}, \"colorscale\": {\"diverging\": [[0, \"#8e0152\"], [0.1, \"#c51b7d\"], [0.2, \"#de77ae\"], [0.3, \"#f1b6da\"], [0.4, \"#fde0ef\"], [0.5, \"#f7f7f7\"], [0.6, \"#e6f5d0\"], [0.7, \"#b8e186\"], [0.8, \"#7fbc41\"], [0.9, \"#4d9221\"], [1, \"#276419\"]], \"sequential\": [[0.0, \"#0d0887\"], [0.1111111111111111, \"#46039f\"], [0.2222222222222222, \"#7201a8\"], [0.3333333333333333, \"#9c179e\"], [0.4444444444444444, \"#bd3786\"], [0.5555555555555556, \"#d8576b\"], [0.6666666666666666, \"#ed7953\"], [0.7777777777777778, \"#fb9f3a\"], [0.8888888888888888, \"#fdca26\"], [1.0, \"#f0f921\"]], \"sequentialminus\": [[0.0, \"#0d0887\"], [0.1111111111111111, \"#46039f\"], [0.2222222222222222, \"#7201a8\"], [0.3333333333333333, \"#9c179e\"], [0.4444444444444444, \"#bd3786\"], [0.5555555555555556, \"#d8576b\"], [0.6666666666666666, \"#ed7953\"], [0.7777777777777778, \"#fb9f3a\"], [0.8888888888888888, \"#fdca26\"], [1.0, \"#f0f921\"]]}, \"colorway\": [\"#636efa\", \"#EF553B\", \"#00cc96\", \"#ab63fa\", \"#FFA15A\", \"#19d3f3\", \"#FF6692\", \"#B6E880\", \"#FF97FF\", \"#FECB52\"], \"font\": {\"color\": \"#2a3f5f\"}, \"geo\": {\"bgcolor\": \"white\", \"lakecolor\": \"white\", \"landcolor\": \"#E5ECF6\", \"showlakes\": true, \"showland\": true, \"subunitcolor\": \"white\"}, \"hoverlabel\": {\"align\": \"left\"}, \"hovermode\": \"closest\", \"mapbox\": {\"style\": \"light\"}, \"paper_bgcolor\": \"white\", \"plot_bgcolor\": \"#E5ECF6\", \"polar\": {\"angularaxis\": {\"gridcolor\": \"white\", \"linecolor\": \"white\", \"ticks\": \"\"}, \"bgcolor\": \"#E5ECF6\", \"radialaxis\": {\"gridcolor\": \"white\", \"linecolor\": \"white\", \"ticks\": \"\"}}, \"scene\": {\"xaxis\": {\"backgroundcolor\": \"#E5ECF6\", \"gridcolor\": \"white\", \"gridwidth\": 2, \"linecolor\": \"white\", \"showbackground\": true, \"ticks\": \"\", \"zerolinecolor\": \"white\"}, \"yaxis\": {\"backgroundcolor\": \"#E5ECF6\", \"gridcolor\": \"white\", \"gridwidth\": 2, \"linecolor\": \"white\", \"showbackground\": true, \"ticks\": \"\", \"zerolinecolor\": \"white\"}, \"zaxis\": {\"backgroundcolor\": \"#E5ECF6\", \"gridcolor\": \"white\", \"gridwidth\": 2, \"linecolor\": \"white\", \"showbackground\": true, \"ticks\": \"\", \"zerolinecolor\": \"white\"}}, \"shapedefaults\": {\"line\": {\"color\": \"#2a3f5f\"}}, \"ternary\": {\"aaxis\": {\"gridcolor\": \"white\", \"linecolor\": \"white\", \"ticks\": \"\"}, \"baxis\": {\"gridcolor\": \"white\", \"linecolor\": \"white\", \"ticks\": \"\"}, \"bgcolor\": \"#E5ECF6\", \"caxis\": {\"gridcolor\": \"white\", \"linecolor\": \"white\", \"ticks\": \"\"}}, \"title\": {\"x\": 0.05}, \"xaxis\": {\"automargin\": true, \"gridcolor\": \"white\", \"linecolor\": \"white\", \"ticks\": \"\", \"title\": {\"standoff\": 15}, \"zerolinecolor\": \"white\", \"zerolinewidth\": 2}, \"yaxis\": {\"automargin\": true, \"gridcolor\": \"white\", \"linecolor\": \"white\", \"ticks\": \"\", \"title\": {\"standoff\": 15}, \"zerolinecolor\": \"white\", \"zerolinewidth\": 2}}}, \"title\": {\"text\": \"Input features Importance\"}},\n",
              "                        {\"responsive\": true}\n",
              "                    ).then(function(){\n",
              "                            \n",
              "var gd = document.getElementById('bc73c5df-d68e-47e8-9e2a-c45a857cc38f');\n",
              "var x = new MutationObserver(function (mutations, observer) {{\n",
              "        var display = window.getComputedStyle(gd).display;\n",
              "        if (!display || display === 'none') {{\n",
              "            console.log([gd, 'removed!']);\n",
              "            Plotly.purge(gd);\n",
              "            observer.disconnect();\n",
              "        }}\n",
              "}});\n",
              "\n",
              "// Listen for the removal of the full notebook cells\n",
              "var notebookContainer = gd.closest('#notebook-container');\n",
              "if (notebookContainer) {{\n",
              "    x.observe(notebookContainer, {childList: true});\n",
              "}}\n",
              "\n",
              "// Listen for the clearing of the current output cell\n",
              "var outputEl = gd.closest('.output');\n",
              "if (outputEl) {{\n",
              "    x.observe(outputEl, {childList: true});\n",
              "}}\n",
              "\n",
              "                        })\n",
              "                };\n",
              "                \n",
              "            </script>\n",
              "        </div>\n",
              "</body>\n",
              "</html>"
            ]
          },
          "metadata": {
            "tags": []
          }
        }
      ]
    }
  ]
}